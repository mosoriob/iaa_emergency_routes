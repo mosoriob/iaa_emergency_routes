{
 "cells": [
  {
   "cell_type": "code",
   "execution_count": 2,
   "metadata": {
    "collapsed": true
   },
   "outputs": [],
   "source": [
    "import matplotlib.pyplot as plt\n",
    "import pandas as pd\n",
    "import numpy as np\n",
    "import glob, os\n",
    "plt.style.use('ggplot')\n",
    "%matplotlib inline\n",
    "color = dict(boxes='DarkGreen', whiskers='DarkOrange',medians='DarkBlue', caps='Gray')"
   ]
  },
  {
   "cell_type": "code",
   "execution_count": 5,
   "metadata": {},
   "outputs": [
    {
     "name": "stdout",
     "output_type": "stream",
     "text": [
      "['yuan-grade1.txt', 'yuan-grade2.txt', 'yuan-grade3.txt', 'yuan-grade4.txt']\n"
     ]
    },
    {
     "data": {
      "text/html": [
       "<div>\n",
       "<style>\n",
       "    .dataframe thead tr:only-child th {\n",
       "        text-align: right;\n",
       "    }\n",
       "\n",
       "    .dataframe thead th {\n",
       "        text-align: left;\n",
       "    }\n",
       "\n",
       "    .dataframe tbody tr th {\n",
       "        vertical-align: top;\n",
       "    }\n",
       "</style>\n",
       "<table border=\"1\" class=\"dataframe\">\n",
       "  <thead>\n",
       "    <tr style=\"text-align: right;\">\n",
       "      <th></th>\n",
       "      <th>yuan-grade1</th>\n",
       "      <th>yuan-grade2</th>\n",
       "      <th>yuan-grade3</th>\n",
       "      <th>yuan-grade4</th>\n",
       "    </tr>\n",
       "  </thead>\n",
       "  <tbody>\n",
       "    <tr>\n",
       "      <th>count</th>\n",
       "      <td>200.000000</td>\n",
       "      <td>200.000000</td>\n",
       "      <td>200.000000</td>\n",
       "      <td>200.000000</td>\n",
       "    </tr>\n",
       "    <tr>\n",
       "      <th>mean</th>\n",
       "      <td>3.192416</td>\n",
       "      <td>3.588757</td>\n",
       "      <td>4.880685</td>\n",
       "      <td>6.654578</td>\n",
       "    </tr>\n",
       "    <tr>\n",
       "      <th>std</th>\n",
       "      <td>0.007426</td>\n",
       "      <td>0.082409</td>\n",
       "      <td>0.067439</td>\n",
       "      <td>0.323117</td>\n",
       "    </tr>\n",
       "    <tr>\n",
       "      <th>min</th>\n",
       "      <td>3.132390</td>\n",
       "      <td>3.419030</td>\n",
       "      <td>4.548850</td>\n",
       "      <td>6.365130</td>\n",
       "    </tr>\n",
       "    <tr>\n",
       "      <th>25%</th>\n",
       "      <td>3.193330</td>\n",
       "      <td>3.628570</td>\n",
       "      <td>4.815710</td>\n",
       "      <td>6.470350</td>\n",
       "    </tr>\n",
       "    <tr>\n",
       "      <th>50%</th>\n",
       "      <td>3.193330</td>\n",
       "      <td>3.628570</td>\n",
       "      <td>4.894220</td>\n",
       "      <td>6.488960</td>\n",
       "    </tr>\n",
       "    <tr>\n",
       "      <th>75%</th>\n",
       "      <td>3.193330</td>\n",
       "      <td>3.628570</td>\n",
       "      <td>4.953900</td>\n",
       "      <td>6.978330</td>\n",
       "    </tr>\n",
       "    <tr>\n",
       "      <th>max</th>\n",
       "      <td>3.193330</td>\n",
       "      <td>3.628570</td>\n",
       "      <td>4.953900</td>\n",
       "      <td>7.468140</td>\n",
       "    </tr>\n",
       "  </tbody>\n",
       "</table>\n",
       "</div>"
      ],
      "text/plain": [
       "       yuan-grade1  yuan-grade2  yuan-grade3  yuan-grade4\n",
       "count   200.000000   200.000000   200.000000   200.000000\n",
       "mean      3.192416     3.588757     4.880685     6.654578\n",
       "std       0.007426     0.082409     0.067439     0.323117\n",
       "min       3.132390     3.419030     4.548850     6.365130\n",
       "25%       3.193330     3.628570     4.815710     6.470350\n",
       "50%       3.193330     3.628570     4.894220     6.488960\n",
       "75%       3.193330     3.628570     4.953900     6.978330\n",
       "max       3.193330     3.628570     4.953900     7.468140"
      ]
     },
     "execution_count": 5,
     "metadata": {},
     "output_type": "execute_result"
    },
    {
     "data": {
      "image/png": "[encoded data removed]",
      "text/plain": [
       "<matplotlib.figure.Figure at 0x7f3bc4afe390>"
      ]
     },
     "metadata": {},
     "output_type": "display_data"
    }
   ],
   "source": [
    "os.chdir(\"/home/mosorio/iaa2/results/best\")\n",
    "columns = glob.glob(\"yuan*.txt\")\n",
    "columns.sort()\n",
    "print (columns)\n",
    "for file in columns:\n",
    "    column = file.split('/')[-1].split('.')[0]\n",
    "    dfalpha = pd.read_csv(file)\n",
    "boxs = pd.concat([pd.read_csv(item, names=[item[:-4]]) for item in columns], axis=1)\n",
    "p = boxs.plot.box()\n",
    "p\n",
    "plt.savefig('/home/mosorio/magister/iaa/iaa_emergency_routes_paper/images/yuan.pdf')\n",
    "boxs.describe()"
   ]
  },
  {
   "cell_type": "code",
   "execution_count": null,
   "metadata": {
    "collapsed": true
   },
   "outputs": [],
   "source": []
  },
  {
   "cell_type": "code",
   "execution_count": 7,
   "metadata": {},
   "outputs": [
    {
     "name": "stdout",
     "output_type": "stream",
     "text": [
      "['peuco-p1.txt', 'peuco-p2.txt', 'peuco-p3.txt', 'peuco-p4.txt']\n"
     ]
    },
    {
     "data": {
      "text/html": [
       "<div>\n",
       "<style>\n",
       "    .dataframe thead tr:only-child th {\n",
       "        text-align: right;\n",
       "    }\n",
       "\n",
       "    .dataframe thead th {\n",
       "        text-align: left;\n",
       "    }\n",
       "\n",
       "    .dataframe tbody tr th {\n",
       "        vertical-align: top;\n",
       "    }\n",
       "</style>\n",
       "<table border=\"1\" class=\"dataframe\">\n",
       "  <thead>\n",
       "    <tr style=\"text-align: right;\">\n",
       "      <th></th>\n",
       "      <th>peuco-p1</th>\n",
       "      <th>peuco-p2</th>\n",
       "      <th>peuco-p3</th>\n",
       "      <th>peuco-p4</th>\n",
       "    </tr>\n",
       "  </thead>\n",
       "  <tbody>\n",
       "    <tr>\n",
       "      <th>count</th>\n",
       "      <td>200.000000</td>\n",
       "      <td>200.000000</td>\n",
       "      <td>200.000000</td>\n",
       "      <td>200.000000</td>\n",
       "    </tr>\n",
       "    <tr>\n",
       "      <th>mean</th>\n",
       "      <td>33.069817</td>\n",
       "      <td>38.250532</td>\n",
       "      <td>38.819404</td>\n",
       "      <td>43.093132</td>\n",
       "    </tr>\n",
       "    <tr>\n",
       "      <th>std</th>\n",
       "      <td>4.612457</td>\n",
       "      <td>6.206329</td>\n",
       "      <td>6.245782</td>\n",
       "      <td>7.412785</td>\n",
       "    </tr>\n",
       "    <tr>\n",
       "      <th>min</th>\n",
       "      <td>26.659000</td>\n",
       "      <td>30.554500</td>\n",
       "      <td>30.632200</td>\n",
       "      <td>34.278600</td>\n",
       "    </tr>\n",
       "    <tr>\n",
       "      <th>25%</th>\n",
       "      <td>29.986600</td>\n",
       "      <td>34.317400</td>\n",
       "      <td>34.487800</td>\n",
       "      <td>38.468600</td>\n",
       "    </tr>\n",
       "    <tr>\n",
       "      <th>50%</th>\n",
       "      <td>31.363900</td>\n",
       "      <td>36.213800</td>\n",
       "      <td>36.747600</td>\n",
       "      <td>40.304050</td>\n",
       "    </tr>\n",
       "    <tr>\n",
       "      <th>75%</th>\n",
       "      <td>34.152800</td>\n",
       "      <td>39.182575</td>\n",
       "      <td>40.256275</td>\n",
       "      <td>44.579225</td>\n",
       "    </tr>\n",
       "    <tr>\n",
       "      <th>max</th>\n",
       "      <td>52.429100</td>\n",
       "      <td>63.668400</td>\n",
       "      <td>66.094200</td>\n",
       "      <td>76.007800</td>\n",
       "    </tr>\n",
       "  </tbody>\n",
       "</table>\n",
       "</div>"
      ],
      "text/plain": [
       "         peuco-p1    peuco-p2    peuco-p3    peuco-p4\n",
       "count  200.000000  200.000000  200.000000  200.000000\n",
       "mean    33.069817   38.250532   38.819404   43.093132\n",
       "std      4.612457    6.206329    6.245782    7.412785\n",
       "min     26.659000   30.554500   30.632200   34.278600\n",
       "25%     29.986600   34.317400   34.487800   38.468600\n",
       "50%     31.363900   36.213800   36.747600   40.304050\n",
       "75%     34.152800   39.182575   40.256275   44.579225\n",
       "max     52.429100   63.668400   66.094200   76.007800"
      ]
     },
     "execution_count": 7,
     "metadata": {},
     "output_type": "execute_result"
    },
    {
     "data": {
      "image/png": "[encoded data removed]",
      "text/plain": [
       "<matplotlib.figure.Figure at 0x7f3bc1ef6748>"
      ]
     },
     "metadata": {},
     "output_type": "display_data"
    }
   ],
   "source": [
    "os.chdir(\"/home/mosorio/iaa2/results/best\")\n",
    "columns = glob.glob(\"peuco*.txt\")\n",
    "columns.sort()\n",
    "print (columns)\n",
    "for file in columns:\n",
    "    column = file.split('/')[-1].split('.')[0]\n",
    "    dfalpha = pd.read_csv(file)\n",
    "boxs = pd.concat([pd.read_csv(item, names=[item[:-4]]) for item in columns], axis=1)\n",
    "p = boxs.plot.box()\n",
    "p\n",
    "plt.savefig('/home/mosorio/penco.pdf')\n",
    "boxs.describe()"
   ]
  },
  {
   "cell_type": "code",
   "execution_count": null,
   "metadata": {
    "collapsed": true
   },
   "outputs": [],
   "source": []
  }
 ],
 "metadata": {
  "kernelspec": {
   "display_name": "Python 3",
   "language": "python",
   "name": "python3"
  },
  "language_info": {
   "codemirror_mode": {
    "name": "ipython",
    "version": 3
   },
   "file_extension": ".py",
   "mimetype": "text/x-python",
   "name": "python",
   "nbconvert_exporter": "python",
   "pygments_lexer": "ipython3",
   "version": "3.6.1"
  }
 },
 "nbformat": 4,
 "nbformat_minor": 2
}
