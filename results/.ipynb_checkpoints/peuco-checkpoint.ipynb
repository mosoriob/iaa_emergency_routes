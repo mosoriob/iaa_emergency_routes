{
 "cells": [
  {
   "cell_type": "code",
   "execution_count": 1,
   "metadata": {
    "collapsed": true
   },
   "outputs": [],
   "source": [
    "\n",
    "import matplotlib.pyplot as plt\n",
    "import pandas as pd\n",
    "import numpy as np\n",
    "import glob\n",
    "\n",
    "plt.style.use('ggplot')\n",
    "%matplotlib inline"
   ]
  },
  {
   "cell_type": "code",
   "execution_count": 11,
   "metadata": {},
   "outputs": [
    {
     "name": "stdout",
     "output_type": "stream",
     "text": [
      "           49.2941\n",
      "count  1388.000000\n",
      "mean     43.355769\n",
      "std       6.315594\n",
      "min      29.694600\n",
      "25%      39.014100\n",
      "50%      41.326800\n",
      "75%      44.589775\n",
      "max      79.490500\n"
     ]
    }
   ],
   "source": [
    "import glob\n",
    "for g in glob.glob('peuco/*'):\n",
    "    df1 = pd.read_csv(g)\n",
    "    print(df1.describe())"
   ]
  }
 ],
 "metadata": {
  "kernelspec": {
   "display_name": "Python 3",
   "language": "python",
   "name": "python3"
  },
  "language_info": {
   "codemirror_mode": {
    "name": "ipython",
    "version": 3
   },
   "file_extension": ".py",
   "mimetype": "text/x-python",
   "name": "python",
   "nbconvert_exporter": "python",
   "pygments_lexer": "ipython3",
   "version": "3.6.1"
  }
 },
 "nbformat": 4,
 "nbformat_minor": 2
}
