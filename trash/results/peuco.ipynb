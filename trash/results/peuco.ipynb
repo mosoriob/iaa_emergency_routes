{
 "cells": [
  {
   "cell_type": "code",
   "execution_count": 47,
   "metadata": {
    "collapsed": true
   },
   "outputs": [],
   "source": [
    "import matplotlib.pyplot as plt\n",
    "import pandas as pd\n",
    "import numpy as np\n",
    "import glob\n",
    "from scipy import stats\n",
    "plt.style.use('ggplot')\n",
    "%matplotlib inline\n",
    "color = dict(boxes='DarkGreen', whiskers='DarkOrange',medians='DarkBlue', caps='Gray')"
   ]
  },
  {
   "cell_type": "code",
   "execution_count": 165,
   "metadata": {},
   "outputs": [
    {
     "name": "stdout",
     "output_type": "stream",
     "text": [
      "WilcoxonResult(statistic=327.0, pvalue=0.37931188967066598)\n",
      "WilcoxonResult(statistic=201.0, pvalue=0.0083520953699643598)\n",
      "WilcoxonResult(statistic=243.0, pvalue=0.040229498429464099)\n",
      "WilcoxonResult(statistic=291.0, pvalue=0.16711151489795728)\n",
      "WilcoxonResult(statistic=152.0, pvalue=0.000896025420880549)\n",
      "WilcoxonResult(statistic=89.0, pvalue=2.6637984793678506e-05)\n"
     ]
    },
    {
     "data": {
      "text/plain": [
       "<matplotlib.axes._subplots.AxesSubplot at 0x12025bf98>"
      ]
     },
     "execution_count": 165,
     "metadata": {},
     "output_type": "execute_result"
    },
    {
     "data": {
      "image/png": "[encoded data removed]",
      "text/plain": [
       "<matplotlib.figure.Figure at 0x120265780>"
      ]
     },
     "metadata": {},
     "output_type": "display_data"
    }
   ],
   "source": [
    "import glob\n",
    "testAntsFile1=\"peuco_best/ev-100-15-10-1-2-0.5-0.1\"\n",
    "testAntsFile2=\"peuco_best/ev-100-15-50-1-2-0.5-0.1-100\"\n",
    "testAntsFile3=\"peuco_best/ev-100-15-100-1-2-0.5-0.1-100\"\n",
    "testAntsFile4=\"peuco_best/ev-100-15-200-1-2-0.5-0.1-100\"\n",
    "\n",
    "df1 = pd.read_csv(testAntsFile1)\n",
    "#fried = stats.friedmanchisquare(*[grp for idx, grp in df1.iteritems()])\n",
    "\n",
    "df1.columns = ['10-ants']\n",
    "df1['50-ants'] = pd.read_csv(testAntsFile2)\n",
    "df1['100-ants'] = pd.read_csv(testAntsFile3)\n",
    "df1['200-ants'] = pd.read_csv(testAntsFile4)\n",
    "\n",
    "print (stats.wilcoxon(df1['10-ants'],df1['50-ants'] ))\n",
    "print (stats.wilcoxon(df1['10-ants'],df1['100-ants'] ))\n",
    "print (stats.wilcoxon(df1['10-ants'],df1['200-ants'] ))\n",
    "print (stats.wilcoxon(df1['50-ants'],df1['100-ants'] ))\n",
    "print (stats.wilcoxon(df1['50-ants'],df1['200-ants'] ))\n",
    "print (stats.wilcoxon(df1['100-ants'],df1['200-ants'] ))\n",
    "\n",
    "df1.plot.box(color=color, sym='r+', title=\"Numero de hormigas alpha=1\")"
   ]
  },
  {
   "cell_type": "code",
   "execution_count": 162,
   "metadata": {},
   "outputs": [
    {
     "data": {
      "text/plain": [
       "<matplotlib.axes._subplots.AxesSubplot at 0x11fdc7a90>"
      ]
     },
     "execution_count": 162,
     "metadata": {},
     "output_type": "execute_result"
    },
    {
     "data": {
      "image/png": "[encoded data removed]",
      "text/plain": [
       "<matplotlib.figure.Figure at 0x11efaf278>"
      ]
     },
     "metadata": {},
     "output_type": "display_data"
    }
   ],
   "source": [
    "import glob\n",
    "testFile1=\"peuco_best/ev-100-15-100-0.01-2-0.5-0.1\"\n",
    "testFile2=\"peuco_best/ev-100-15-100-0.1-2-0.5-0.1\"\n",
    "testFile3=\"peuco_best/ev-100-15-100-0.5-2-0.5-0.1\"\n",
    "testFile4=\"peuco_best/ev-100-15-100-1-2-0.5-0.1\"\n",
    "testFile5=\"peuco_best/ev-100-15-100-2-2-0.5-0.1\"\n",
    "\n",
    "\n",
    "dfalpha = pd.read_csv(testFile1)\n",
    "\n",
    "dfalpha.columns = ['alpha-0.01']\n",
    "dfalpha['alpha-0.1'] = pd.read_csv(testFile2)\n",
    "dfalpha['alpha-0.5'] = pd.read_csv(testFile3)\n",
    "dfalpha['alpha-1'] = pd.read_csv(testFile4)\n",
    "dfalpha['alpha-2'] = pd.read_csv(testFile5)\n",
    "\n",
    "dfalpha.plot.box(color=color, sym='r+', title=\"Comportamiento cambiando alpha usando 100 hormigas\")"
   ]
  }
 ],
 "metadata": {
  "kernelspec": {
   "display_name": "Python 3",
   "language": "python",
   "name": "python3"
  },
  "language_info": {
   "codemirror_mode": {
    "name": "ipython",
    "version": 3
   },
   "file_extension": ".py",
   "mimetype": "text/x-python",
   "name": "python",
   "nbconvert_exporter": "python",
   "pygments_lexer": "ipython3",
   "version": "3.6.1"
  }
 },
 "nbformat": 4,
 "nbformat_minor": 2
}
